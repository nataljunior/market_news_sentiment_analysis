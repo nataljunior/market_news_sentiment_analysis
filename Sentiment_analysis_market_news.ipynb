{
  "nbformat": 4,
  "nbformat_minor": 0,
  "metadata": {
    "colab": {
      "provenance": []
    },
    "kernelspec": {
      "name": "python3",
      "display_name": "Python 3"
    },
    "language_info": {
      "name": "python"
    }
  },
  "cells": [
    {
      "cell_type": "code",
      "execution_count": null,
      "metadata": {
        "id": "ylEU_occDaVY"
      },
      "outputs": [],
      "source": [
        "!pip install transformers"
      ]
    },
    {
      "cell_type": "code",
      "source": [
        "!pip install newsapi-python"
      ],
      "metadata": {
        "id": "7vygfEwbDdiu"
      },
      "execution_count": null,
      "outputs": []
    },
    {
      "cell_type": "code",
      "source": [
        "#Usage\n",
        "from newsapi import NewsApiClient\n",
        "import pandas as pd\n",
        "from transformers import pipeline"
      ],
      "metadata": {
        "id": "o_lS6DnZDgGG"
      },
      "execution_count": null,
      "outputs": []
    },
    {
      "cell_type": "code",
      "source": [
        "# Init\n",
        "newsapi = NewsApiClient(api_key='api_key')"
      ],
      "metadata": {
        "id": "ivULlOyLDm-k"
      },
      "execution_count": null,
      "outputs": []
    },
    {
      "cell_type": "code",
      "source": [
        "# List of tickers\n",
        "tickers = ['NVDA', 'TSLA', 'MSFT', 'GOOG', 'META', 'MMM', 'BBY', 'JNJ', 'ORCL', 'MRK', 'VZ', 'BMY', 'PDD','AAPL', 'S&P 500']\n",
        "\n",
        "# Initialize an empty list to store articles\n",
        "all_articles_list = []\n",
        "\n",
        "for ticker in tickers:\n",
        "    all_articles = newsapi.get_everything(\n",
        "        q=ticker,\n",
        "        from_param='2023-09-01',\n",
        "        to='2023-09-18',\n",
        "        language='en',\n",
        "        sort_by='relevancy',\n",
        "        page=1\n",
        "    )\n",
        "    total_articles = all_articles['totalResults']\n",
        "    article_counters[ticker] = total_articles\n",
        "    articles = all_articles['articles']\n",
        "\n",
        "    # Add a 'ticker' column with the current ticker for all articles\n",
        "    for article in articles:\n",
        "        article['ticker'] = ticker\n",
        "\n",
        "    all_articles_list.extend(articles)\n",
        "\n",
        "df = pd.DataFrame(all_articles_list)\n",
        "\n",
        "\n",
        "# Load the sentiment analysis models\n",
        "sentiment_analyzer = pipeline('sentiment-analysis')\n",
        "sentiment_analyzer_finbert = pipeline(model=\"ProsusAI/finbert\")\n",
        "sentiment_analyzer_distilRoberta = pipeline(model=\"mrm8488/distilroberta-finetuned-financial-news-sentiment-analysis\")\n",
        "\n",
        "# Sentiment analysis 1 - distilbert-base-uncased-finetuned-sst-2-english\n",
        "# Function to perform sentiment analysis\n",
        "def get_sentiment(title):\n",
        "    result = sentiment_analyzer(title)\n",
        "    sentiment = result[0]['label']\n",
        "    return sentiment\n",
        "\n",
        "# Apply sentiment analysis to the 'title' column and create a new 'sentiment' column\n",
        "df['sentiment'] = df['title'].apply(get_sentiment)\n",
        "\n",
        "# Sentiment analysis 2 - finbert https://huggingface.co/ProsusAI/finbert\n",
        "# Function to perform sentiment analysis\n",
        "def get_sentiment_2(title):\n",
        "    result = sentiment_analyzer_finbert(title)\n",
        "    sentiment = result[0]['label']\n",
        "    return sentiment\n",
        "\n",
        "# Apply sentiment analysis to the 'title' column and create a new 'sentiment' column\n",
        "df['sentiment_finbert'] = df['title'].apply(get_sentiment)\n",
        "\n",
        "\n",
        "# Sentiment analysis 3 - distilRoberta-financial-sentiment - https://huggingface.co/mrm8488/distilroberta-finetuned-financial-news-sentiment-analysis\n",
        "def get_sentiment_3(title):\n",
        "    result = sentiment_analyzer_distilRoberta(title)\n",
        "    sentiment = result[0]['label']\n",
        "    return sentiment\n",
        "\n",
        "# Apply sentiment analysis to the 'title' column and create a new 'sentiment' column\n",
        "df['sentiment_distilRoberta'] = df['title'].apply(get_sentiment)\n",
        "\n",
        "\n",
        "# Function to determine majority sentiment\n",
        "def majority_sentiment(row):\n",
        "    sentiments = [row['sentiment_finbert'], row['sentiment_distilRoberta'], row['sentiment']]\n",
        "    positive_count = sentiments.count('POSITIVE')\n",
        "    negative_count = sentiments.count('NEGATIVE')\n",
        "    if positive_count > negative_count:\n",
        "        return 'POSITIVE'\n",
        "    elif negative_count > positive_count:\n",
        "        return 'NEGATIVE'\n",
        "    else:\n",
        "        return 'NEUTRAL'  # Handle ties as needed\n",
        "\n",
        "# Create a new column 'majority_sentiment' based on majority sentiment\n",
        "df['majority_sentiment'] = df.apply(majority_sentiment, axis=1)\n",
        "\n",
        "df = df.drop(['sentiment_finbert', 'sentiment_distilRoberta', 'sentiment'], axis=1)"
      ],
      "metadata": {
        "id": "lM5GB7dzDsxg"
      },
      "execution_count": null,
      "outputs": []
    }
  ]
}